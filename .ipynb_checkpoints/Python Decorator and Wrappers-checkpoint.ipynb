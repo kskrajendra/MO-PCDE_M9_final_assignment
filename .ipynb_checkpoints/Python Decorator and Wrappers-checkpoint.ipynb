{
 "cells": [
  {
   "cell_type": "markdown",
   "metadata": {
    "deletable": false,
    "editable": false,
    "nbgrader": {
     "cell_type": "markdown",
     "checksum": "813c1780a7602d3939cc478dfc30f24b",
     "grade": false,
     "grade_id": "cell-f09389d23a979b92",
     "locked": true,
     "schema_version": 3,
     "solution": false
    }
   },
   "source": [
    "# Codio Coding Activity 9.4: Python *Decorators* and *Wrappers*\n",
    "\n",
    "### Learning Outcome Addressed\n",
    "\n",
    "- 5. Write code using *decorators* and *wrappers*.\n",
    "\n",
    "\n",
    "## Index:\n",
    "\n",
    "- [Question 1](#Question-1)\n",
    "- [Question 2](#Question-2)\n",
    "- [Question 3](#Question-3)\n",
    "- [Question 4](#Question-4)\n",
    "- [Question 5](#Question-5)\n",
    "- [Question 6](#Question-6)\n",
    "- [Question 7](#Question-7)\n",
    "- [Question 8](#Question-8)\n",
    "- [Question 9](#Question-9)\n",
    "- [Question 10](#Question-10)"
   ]
  },
  {
   "cell_type": "markdown",
   "metadata": {
    "deletable": false,
    "editable": false,
    "nbgrader": {
     "cell_type": "markdown",
     "checksum": "0c98ef822409b7315480790b2c494fc2",
     "grade": false,
     "grade_id": "cell-7a5168858ff04d0b",
     "locked": true,
     "schema_version": 3,
     "solution": false
    }
   },
   "source": [
    "## Python *Decorators* and *Wrappers*\n",
    "\n",
    "## Question 1\n",
    "\n",
    "*2 points*\n",
    "\n",
    "In Python, you can assign a *function* to a variable and later execute the variable as a *function*. \n",
    "\n",
    "Create a *function* called  `assignFunctionToVariableExample` and make it return a single *string* `FunctionToVariable`.\n",
    "\n",
    "Assign your *function* to *`ans1`*."
   ]
  },
  {
   "cell_type": "code",
   "execution_count": 1,
   "metadata": {
    "deletable": false,
    "nbgrader": {
     "cell_type": "code",
     "checksum": "b0fbf7c826610c911682eff8aebe4a00",
     "grade": false,
     "grade_id": "cell-30f60695412b1234",
     "locked": false,
     "schema_version": 3,
     "solution": true
    }
   },
   "outputs": [
    {
     "data": {
      "text/plain": [
       "'FunctionToVariable'"
      ]
     },
     "execution_count": 1,
     "metadata": {},
     "output_type": "execute_result"
    }
   ],
   "source": [
    "### GRADED\n",
    "\n",
    "### YOUR SOLUTION HERE\n",
    "def assignFunctionToVariableExample():\n",
    "    return 'FunctionToVariable'\n",
    "\n",
    "ans1 = assignFunctionToVariableExample()\n",
    "ans1\n",
    "# YOUR CODE HERE\n",
    "#raise NotImplementedError()"
   ]
  },
  {
   "cell_type": "code",
   "execution_count": null,
   "metadata": {
    "deletable": false,
    "editable": false,
    "nbgrader": {
     "cell_type": "code",
     "checksum": "fef932c7e4be03096116a67f3118f93c",
     "grade": true,
     "grade_id": "cell-b127c45f36ebe4b5",
     "locked": true,
     "points": 2,
     "schema_version": 3,
     "solution": false
    }
   },
   "outputs": [],
   "source": []
  },
  {
   "cell_type": "markdown",
   "metadata": {
    "deletable": false,
    "editable": false,
    "nbgrader": {
     "cell_type": "markdown",
     "checksum": "92cd625f3bd7922359a289684a531f27",
     "grade": false,
     "grade_id": "cell-9455af018176f893",
     "locked": true,
     "schema_version": 3,
     "solution": false
    }
   },
   "source": [
    "## Question 2\n",
    "\n",
    "*2 points*\n",
    "\n",
    "In Python, you can pass a *function* as a parameter to another *function*. Create a *function* called  `do_math` that takes two parameters - a number and a *function*.\n",
    "\n",
    "You will then call your *function* `do_math` and pass one of the *functions* below, that has been defined for you, as the *function* parameter:\n",
    "```Python\n",
    "def sqrt(num):\n",
    "   return num**0.5\n",
    "   \n",
    "def square(num):\n",
    "   return num**2\n",
    "   \n",
    "```\n",
    "\n",
    "Test your *function* with the inputs `16, sqrt`. Assign the result to *`ans2a`*.\n",
    "\n",
    "Next, test your *function* with the inputs `8, square`. Assign the result to *`ans2b`*."
   ]
  },
  {
   "cell_type": "code",
   "execution_count": 3,
   "metadata": {
    "deletable": false,
    "nbgrader": {
     "cell_type": "code",
     "checksum": "dfd22ad3a314895b3b976697429f8149",
     "grade": false,
     "grade_id": "cell-f0774d95ba6de5ea",
     "locked": false,
     "schema_version": 3,
     "solution": true
    }
   },
   "outputs": [
    {
     "data": {
      "text/plain": [
       "64"
      ]
     },
     "execution_count": 3,
     "metadata": {},
     "output_type": "execute_result"
    }
   ],
   "source": [
    "### GRADED\n",
    "\n",
    "### YOUR SOLUTION HERE\n",
    "\n",
    "def sqrt(num):\n",
    "    return num**0.5\n",
    "\n",
    "def square(num):\n",
    "    return num**2\n",
    "\n",
    "def do_math(mathf, num):\n",
    "    return mathf(num)\n",
    "\n",
    "ans2a = do_math(sqrt, 16)\n",
    "ans2b = do_math(square, 8)\n",
    "ans2b\n",
    "# YOUR CODE HERE\n",
    "#raise NotImplementedError()"
   ]
  },
  {
   "cell_type": "code",
   "execution_count": null,
   "metadata": {
    "deletable": false,
    "editable": false,
    "nbgrader": {
     "cell_type": "code",
     "checksum": "fcbb3ca064d08de5a2ab6d7fc2216cb6",
     "grade": true,
     "grade_id": "cell-8a58faee06aa9e92",
     "locked": true,
     "points": 2,
     "schema_version": 3,
     "solution": false
    }
   },
   "outputs": [],
   "source": []
  },
  {
   "cell_type": "markdown",
   "metadata": {
    "deletable": false,
    "editable": false,
    "nbgrader": {
     "cell_type": "markdown",
     "checksum": "866ad6a312aa4eead4846e1554ad0303",
     "grade": false,
     "grade_id": "cell-06241fce80da5c81",
     "locked": true,
     "schema_version": 3,
     "solution": false
    }
   },
   "source": [
    "## Question 3\n",
    "\n",
    "*2 points*\n",
    "\n",
    "The *function* `shout_hello()`, defined for you below, is a *function* that transforms the *string* `hello world!` into `HELLO WORLD!`.\n",
    "\n",
    "```Python\n",
    "def shout_hello():\n",
    "    greeting = \"hello world!\"\n",
    "    return greeting.upper()\n",
    "   \n",
    "```\n",
    "\n",
    "\n",
    "Define a Python *wrapper function*, `whisper_hello` which takes the *function* `shout_hello()` and returns the value in lower case: `hello world!`.\n",
    "\n",
    "\n",
    "Test your *function* and assign the result to *`ans2a`*."
   ]
  },
  {
   "cell_type": "code",
   "execution_count": 13,
   "metadata": {
    "deletable": false,
    "nbgrader": {
     "cell_type": "code",
     "checksum": "7e2562dfcd30741de3317a3f2c1a20c1",
     "grade": false,
     "grade_id": "cell-bcd1538ef01b9a04",
     "locked": false,
     "schema_version": 3,
     "solution": true
    }
   },
   "outputs": [
    {
     "data": {
      "text/plain": [
       "'hello world!'"
      ]
     },
     "execution_count": 13,
     "metadata": {},
     "output_type": "execute_result"
    }
   ],
   "source": [
    "### GRADED\n",
    "\n",
    "### YOUR SOLUTION HERE\n",
    "\n",
    "def shout_hello():\n",
    "    greeting = \"hello world!\"\n",
    "    return greeting.upper()\n",
    "\n",
    "ans1 = None\n",
    "\n",
    "def whisper_hello(sh):\n",
    "    return sh().lower()\n",
    "\n",
    "ans1 = whisper_hello(shout_hello)\n",
    "ans1\n",
    "# YOUR CODE HERE\n",
    "#raise NotImplementedError()"
   ]
  },
  {
   "cell_type": "code",
   "execution_count": null,
   "metadata": {
    "deletable": false,
    "editable": false,
    "nbgrader": {
     "cell_type": "code",
     "checksum": "01088391345944ca79b179732d3021cf",
     "grade": true,
     "grade_id": "cell-a0661ff08c996961",
     "locked": true,
     "points": 2,
     "schema_version": 3,
     "solution": false
    }
   },
   "outputs": [],
   "source": []
  },
  {
   "cell_type": "markdown",
   "metadata": {
    "deletable": false,
    "editable": false,
    "nbgrader": {
     "cell_type": "markdown",
     "checksum": "fb4cfd8d379e201225d3b6f3f698c4d7",
     "grade": false,
     "grade_id": "cell-bf279b857b89943a",
     "locked": true,
     "schema_version": 3,
     "solution": false
    }
   },
   "source": [
    "## Question 4\n",
    "\n",
    "*2 points*\n",
    "\n",
    "The *function* `shout_hello()` is a *function* that takes a name and returns a *string* containing the words \"HELLO\" followed by the name passed as a parameter.  \n",
    "```Python\n",
    "def shout_hello(name):\n",
    "    greeting = \"hello \" + name + \"!\"\n",
    "    return greeting.upper()\n",
    "   \n",
    "```\n",
    "\n",
    "\n",
    "Define a Python *function*, `whisper_hello` which will take the *function* `shout_hello(name)` as a parameter and returns the text in lower case.  Example: if you pass `\"John\"` to your `whisper_hello` *function* then it should return `hello john!`.\n",
    "\n",
    "\n",
    "Test your *function* with the inputs `General Grievous`. Assign the result to *`ans4a`*.\n",
    "\n",
    "Next, test your *function* with the inputs `Count Dooku`. Assign the result to *`ans4b`*."
   ]
  },
  {
   "cell_type": "code",
   "execution_count": 15,
   "metadata": {
    "deletable": false,
    "nbgrader": {
     "cell_type": "code",
     "checksum": "9ac0fc90dcc166c4a6fc5ea102183287",
     "grade": false,
     "grade_id": "cell-d42bb2c626a267b9",
     "locked": false,
     "schema_version": 3,
     "solution": true
    }
   },
   "outputs": [
    {
     "data": {
      "text/plain": [
       "'hello count dooku!'"
      ]
     },
     "execution_count": 15,
     "metadata": {},
     "output_type": "execute_result"
    }
   ],
   "source": [
    "### GRADED\n",
    "\n",
    "### YOUR SOLUTION HERE\n",
    "\n",
    "def shout_hello(name):\n",
    "   greeting = \"hello \" + name + \"!\"\n",
    "   return greeting.upper()\n",
    "\n",
    "ans4a = None\n",
    "ans4b = None\n",
    "\n",
    "def whisper_hello(sh, name):\n",
    "    return sh(name).lower()\n",
    "\n",
    "ans4a = whisper_hello(shout_hello, 'General Grievous')\n",
    "ans4b = whisper_hello(shout_hello, 'Count Dooku')\n",
    "ans4b\n",
    "# YOUR CODE HERE\n",
    "#raise NotImplementedError()"
   ]
  },
  {
   "cell_type": "code",
   "execution_count": null,
   "metadata": {
    "deletable": false,
    "editable": false,
    "nbgrader": {
     "cell_type": "code",
     "checksum": "73af851532282addfe92fbf0479680e2",
     "grade": true,
     "grade_id": "cell-b412aff12fef30f3",
     "locked": true,
     "points": 2,
     "schema_version": 3,
     "solution": false
    }
   },
   "outputs": [],
   "source": []
  },
  {
   "cell_type": "markdown",
   "metadata": {
    "deletable": false,
    "editable": false,
    "nbgrader": {
     "cell_type": "markdown",
     "checksum": "ba36e97689cba61bb43ec03ab1d5f22d",
     "grade": false,
     "grade_id": "cell-998d12ff9506006e",
     "locked": true,
     "schema_version": 3,
     "solution": false
    }
   },
   "source": [
    "## Question 5\n",
    "\n",
    "*2 points*\n",
    "\n",
    "The *function* `add_values` is a *function* that takes a variable number of unnamed arguments and returns their sum:  \n",
    "```Python\n",
    "def add_values(*args):\n",
    "    result = 0\n",
    "    for val in args:\n",
    "        result = result + val\n",
    "    return result\n",
    "   \n",
    "```\n",
    "\n",
    "\n",
    "Define a Python *function*, `my_add_values` which will take the *function* `add_values` as a parameter and returns `Added decoration: results_from_function_add_values`.\n",
    "\n",
    "Example: if you pass `(1,2,3,4,5,6,7,8,9,10)` to your `my_add_values` *function* then, `my_add_values` should return `Added decoration:118`.\n",
    "\n",
    "\n",
    "Test your *function* with the inputs `(1,2,3,4,5,6,7,8,9,10)`. Assign the result to *`ans5a`*.\n",
    "\n",
    "Next, test your *function* with the inputs `(40,60,70,100)`. Assign the result to *`ans5b`*."
   ]
  },
  {
   "cell_type": "code",
   "execution_count": 5,
   "metadata": {
    "deletable": false,
    "nbgrader": {
     "cell_type": "code",
     "checksum": "9e7d4effc12a23013edd6a443cbc28ed",
     "grade": false,
     "grade_id": "cell-8b9c80193a333bfa",
     "locked": false,
     "schema_version": 3,
     "solution": true
    }
   },
   "outputs": [
    {
     "data": {
      "text/plain": [
       "'Added decoration:270'"
      ]
     },
     "execution_count": 5,
     "metadata": {},
     "output_type": "execute_result"
    }
   ],
   "source": [
    "### GRADED\n",
    "\n",
    "### YOUR SOLUTION HERE\n",
    "\n",
    "def add_values(*args):\n",
    "    result = 0\n",
    "    for val in args:\n",
    "        result = result + val\n",
    "    return result\n",
    "\n",
    "ans5a = None\n",
    "ans5b = None\n",
    "\n",
    "def my_add_values(av, *args):\n",
    "    return 'Added decoration:' + str(av(*args))\n",
    "\n",
    "ans5a = my_add_values(add_values, 1,2,3,4,5,6,7,8,9,10)\n",
    "ans5b = my_add_values(add_values, 40,60,70,100)\n",
    "ans5b \n",
    "# YOUR CODE HERE\n",
    "#raise NotImplementedError()"
   ]
  },
  {
   "cell_type": "code",
   "execution_count": null,
   "metadata": {
    "deletable": false,
    "editable": false,
    "nbgrader": {
     "cell_type": "code",
     "checksum": "b9b414cd29c408c459fa559f5875b3d7",
     "grade": true,
     "grade_id": "cell-94f01b26f9bb2085",
     "locked": true,
     "points": 2,
     "schema_version": 3,
     "solution": false
    }
   },
   "outputs": [],
   "source": []
  },
  {
   "cell_type": "markdown",
   "metadata": {
    "deletable": false,
    "editable": false,
    "nbgrader": {
     "cell_type": "markdown",
     "checksum": "174f84a6b22017dcd4fd0305160a755d",
     "grade": false,
     "grade_id": "cell-65caded1bbdfd4bf",
     "locked": true,
     "schema_version": 3,
     "solution": false
    }
   },
   "source": [
    "## Question 6\n",
    "\n",
    "*2 points*\n",
    "\n",
    "The *function* `calculate_percentage`, defined for you below, is a *function* that takes a number and a variable number of unnamed arguments.  \n",
    "\n",
    "The variable number of arguments is added up to calculate the total and the the number is divided by the total to calculate the percentage. The *function* returns a decimal number between 0 and 1: \n",
    "```Python\n",
    "def calculate_percentage(num, *args):\n",
    "    total = 0\n",
    "    for v in args:\n",
    "        total += v\n",
    "    return v/total\n",
    "   \n",
    "```\n",
    "Define a Python *wrapper function*, `format_percentage` which will take the *function* `calculate_percentage` as a parameter.  The *wrapper function* `format_percentage` will multiply the value returned by the *function* `calculate_percentage` by 100 to produce a percentage (a value between 1 and 100).  \n",
    "\n",
    "\n",
    "Test your *function* with the inputs `num1` = `100` and `args1` = `100,200,100`. Assign the result to *`ans6a`*.\n",
    "\n",
    "Next, test your *function* with the `num2` = `60` and `args2` = `10,10,10,10,10,50`. Assign the result to *`ans6b`*."
   ]
  },
  {
   "cell_type": "code",
   "execution_count": 18,
   "metadata": {
    "deletable": false,
    "nbgrader": {
     "cell_type": "code",
     "checksum": "a831079e0cb22821457a87e203c593d1",
     "grade": false,
     "grade_id": "cell-b9db01fe1d3c7cc4",
     "locked": false,
     "schema_version": 3,
     "solution": true
    }
   },
   "outputs": [
    {
     "data": {
      "text/plain": [
       "50.0"
      ]
     },
     "execution_count": 18,
     "metadata": {},
     "output_type": "execute_result"
    }
   ],
   "source": [
    "### GRADED\n",
    "### YOUR SOLUTION HERE\n",
    "\n",
    "def calculate_percentage(num, *args):\n",
    "    total = 0\n",
    "    for num in args:\n",
    "        total += num\n",
    "    return num/total\n",
    "\n",
    "ans6a = None\n",
    "ans6b = None\n",
    "\n",
    "def format_percentage(cp, *args, num):\n",
    "    return cp(num, *args)*100\n",
    "    \n",
    "ans6a = format_percentage(calculate_percentage, 100, 200, 100, num =10)\n",
    "ans6b = format_percentage(calculate_percentage, 10, 10, 10, 10, 10, 50, num =60)\n",
    "ans6b\n",
    "\n",
    "## Calculate_percentage function defined in the problem statement \n",
    "# is different from the code provided - Krish\n",
    "# YOUR CODE HERE\n",
    "#raise NotImplementedError()"
   ]
  },
  {
   "cell_type": "code",
   "execution_count": null,
   "metadata": {
    "deletable": false,
    "editable": false,
    "nbgrader": {
     "cell_type": "code",
     "checksum": "fdf093a8677277be0e3bc948af9c6ab4",
     "grade": true,
     "grade_id": "cell-a11b844cc4e5b81c",
     "locked": true,
     "points": 2,
     "schema_version": 3,
     "solution": false
    }
   },
   "outputs": [],
   "source": []
  },
  {
   "cell_type": "markdown",
   "metadata": {
    "deletable": false,
    "editable": false,
    "nbgrader": {
     "cell_type": "markdown",
     "checksum": "027fccae7cb04f47fdc4c0599e03a918",
     "grade": false,
     "grade_id": "cell-3969c3e357aac10f",
     "locked": true,
     "schema_version": 3,
     "solution": false
    }
   },
   "source": [
    "## Question 7\n",
    "\n",
    "*2 points*\n",
    "\n",
    "The *function* `add_values`, defined for you below, is a *function* that takes a variable number of unnamed arguments, a variable number of named arguments and returns their sum:  \n",
    "```Python\n",
    "def add_values(*args,**kwargs):\n",
    "    result = 0\n",
    "    for v in args:\n",
    "        result = result + v\n",
    "    for k, v in kwargs.items():\n",
    "        result = result + v\n",
    "    return result\n",
    "   \n",
    "```\n",
    "\n",
    "\n",
    "Define a Python *function*, `my_deco` which will take the *function* `add_values` as a parameter.  \n",
    "\n",
    "Inside *`my_deco`* you will define another *function* called *`wrapper`* that returns \"Added decoration - function defined inside function\" concatenated to your results from *`add_values`*.\n",
    "\n",
    "Example: if you pass `args=(1,2,3,4,5,6,7,8,9,10)` and `kwargs={\"arg1\":1, \"arg2\":2, \"arg3\":3}` to your `my_add_values` *function* then it should return `Added decoration - function defined inside function:61`.\n",
    "\n",
    "\n",
    "Test your *function* with the inputs `args1` = `(1,2,3,4,5,6,7,8,9,10)` and `kwargs1` =  `{\"arg1\":1, \"arg2\":2, \"arg3\":3}` . Assign the result to *`ans7a`*.\n",
    "\n",
    "Next, test your *function* with the `args2` = `(40,60,70,100)` and `kwargs2` =  `{\"arg1\":4, \"arg2\":10}`. Assign the result to *`ans7b`*."
   ]
  },
  {
   "cell_type": "code",
   "execution_count": 1,
   "metadata": {
    "deletable": false,
    "nbgrader": {
     "cell_type": "code",
     "checksum": "b4a58c0971e84267dcd2e040db6e477f",
     "grade": false,
     "grade_id": "cell-7531371d7195fc89",
     "locked": false,
     "schema_version": 3,
     "solution": true
    }
   },
   "outputs": [
    {
     "data": {
      "text/plain": [
       "'Added decoration - function defined inside function 284'"
      ]
     },
     "execution_count": 1,
     "metadata": {},
     "output_type": "execute_result"
    }
   ],
   "source": [
    "### GRADED\n",
    "\n",
    "### YOUR SOLUTION HERE\n",
    "\n",
    "def add_values(*args,**kwargs):\n",
    "    result = 0\n",
    "    #print(*args)\n",
    "    for v in args:\n",
    "        result += v\n",
    "    for k, v in kwargs.items():\n",
    "        result += v\n",
    "    return result\n",
    "\n",
    "\n",
    "ans7a = None\n",
    "ans7b = None\n",
    "\n",
    "#def my_deco(av, *args, **kwargs):\n",
    "def my_deco(av):\n",
    "    def wrapper(*args, **kwargs):\n",
    "        msg = 'Added decoration - function defined inside function'\n",
    "        result = av(*args, **kwargs)\n",
    "        return f\"{msg} {result}\"\n",
    "    return wrapper\n",
    "\n",
    "#add = None\n",
    "args1 = (1,2,3,4,5,6,7,8,9,10)\n",
    "kwargs1 = {\"arg1\":1, \"arg2\":2, \"arg3\":3}\n",
    "\n",
    "args2 = (40,60,70,100) \n",
    "kwargs2 = {\"arg1\":4, \"arg2\":10}\n",
    "\n",
    "add = my_deco(add_values)\n",
    "\n",
    "ans7a = add(*args1, **kwargs1)\n",
    "ans7b = add(*args2, **kwargs2)\n",
    "ans7b\n",
    "\n",
    "# YOUR CODE HERE\n",
    "#raise NotImplementedError()\n",
    "#ans7b"
   ]
  },
  {
   "cell_type": "code",
   "execution_count": null,
   "metadata": {
    "deletable": false,
    "editable": false,
    "nbgrader": {
     "cell_type": "code",
     "checksum": "75181fa9ccc02b9e3b953c8d1bcc971b",
     "grade": true,
     "grade_id": "cell-e603a38c1600a68d",
     "locked": true,
     "points": 2,
     "schema_version": 3,
     "solution": false
    }
   },
   "outputs": [],
   "source": []
  },
  {
   "cell_type": "markdown",
   "metadata": {
    "deletable": false,
    "editable": false,
    "nbgrader": {
     "cell_type": "markdown",
     "checksum": "93066b1ef46f25c936e505a3e8022b27",
     "grade": false,
     "grade_id": "cell-ede5cdf4b5482a83",
     "locked": true,
     "schema_version": 3,
     "solution": false
    }
   },
   "source": [
    "## Question 8\n",
    "\n",
    "*2 points*\n",
    "\n",
    "The *function* `add_values`, defined for you below, is a *function* that takes a variable number of unnamed arguments and a variable number of named arguments and returns their sum:  \n",
    "```Python\n",
    "def add_values(*args,**kwargs):\n",
    "    result = 0\n",
    "    for v in args:\n",
    "        result = result + v\n",
    "    for k, v in kwargs.items():\n",
    "        result = result + v\n",
    "    return result\n",
    "   \n",
    "```\n",
    "\n",
    "\n",
    "Define a Python *function*, `my_new_add`, which will take the *function* `add_values` as a parameter.  Inside `my_new_add` you will define another *function* called `wrapper` that looks for a named parameter `Federal`. If it exists then it removes it from the sum. \n",
    "\n",
    "Example: If you pass `args` = `(1000,35000,5000)` and `kwargs` = `{\"Housing\":5000, \"Allowances\":2000, \"Federal\":3500}\"`, then the *function* should return `48000`.\n",
    "\n",
    "\n",
    "Test your *function* with the inputs `args1` = `(1000,35000,5000)` and `kwargs1` =  `{\"Housing\":5000, \"Allowances\":2000, \"Federal\":3500}`. Assign the result to *`ans8a`*.\n",
    "\n",
    "Next, test your *function* with the `args2` = `(4000,6000,7000,1000)` and `kwargs2` =  `{\"Housing\":100}`. Assign the result to *`ans8b`*."
   ]
  },
  {
   "cell_type": "code",
   "execution_count": 44,
   "metadata": {
    "deletable": false,
    "nbgrader": {
     "cell_type": "code",
     "checksum": "2eca2734d3ddab5a60a9735958a84a47",
     "grade": false,
     "grade_id": "cell-958206c72de16e38",
     "locked": false,
     "schema_version": 3,
     "solution": true
    }
   },
   "outputs": [
    {
     "data": {
      "text/plain": [
       "18100"
      ]
     },
     "execution_count": 44,
     "metadata": {},
     "output_type": "execute_result"
    }
   ],
   "source": [
    "### GRADED\n",
    "\n",
    "### YOUR SOLUTION HERE\n",
    "\n",
    "def add_values(*args,**kwargs):\n",
    "    result = 0\n",
    "    for v in args:\n",
    "        result += v\n",
    "    for k, v in kwargs.items():\n",
    "        result += v\n",
    "    return result\n",
    "\n",
    "ans8a = None\n",
    "ans8b = None\n",
    "\n",
    "def my_new_add(av):\n",
    "    def wrapper(*args, **kwargs):\n",
    "        r = av(*args, **kwargs)\n",
    "        f = kwargs.get(\"Federal\")\n",
    "        return r - int(f or 0)\n",
    "    return wrapper\n",
    "\n",
    "args1 = (1000,35000,5000)\n",
    "kwargs1 = {\"Housing\":5000, \"Allowances\":2000, \"Federal\":3500}\n",
    "args2 = (4000,6000,7000,1000)\n",
    "kwargs2 = {\"Housing\":100}\n",
    "\n",
    "add = my_new_add(add_values)\n",
    "\n",
    "ans8a = add(*args1, **kwargs1)\n",
    "ans8b = add(*args2, **kwargs2)\n",
    "ans8b\n",
    "# YOUR CODE HERE\n",
    "#raise NotImplementedError()"
   ]
  },
  {
   "cell_type": "code",
   "execution_count": null,
   "metadata": {
    "deletable": false,
    "editable": false,
    "nbgrader": {
     "cell_type": "code",
     "checksum": "04b500008e11926d29a0769d2f529ce4",
     "grade": true,
     "grade_id": "cell-03c5f9fedaebe7db",
     "locked": true,
     "points": 2,
     "schema_version": 3,
     "solution": false
    }
   },
   "outputs": [],
   "source": []
  },
  {
   "cell_type": "markdown",
   "metadata": {
    "deletable": false,
    "editable": false,
    "nbgrader": {
     "cell_type": "markdown",
     "checksum": "6035effd4a11995e20364863774aaec8",
     "grade": false,
     "grade_id": "cell-9635d8d676fcd12c",
     "locked": true,
     "schema_version": 3,
     "solution": false
    }
   },
   "source": [
    "## Question 9\n",
    "\n",
    "*2 points*\n",
    "\n",
    "You learned that you can simplify the use of *decorators* by using the `@` symbol. The example below shows the use of the `@` symbol where the *function* `name` is *decorated* with the *wrapper* `hello` to output `Hello John!`.  \n",
    "```Python\n",
    "def hello(func):\n",
    "    def inner(n):\n",
    "         return \"Hello \" + func(n) + '!'\n",
    "    \n",
    "    return inner\n",
    "\n",
    "@hello                                                                                                      \n",
    "def name(x):                                                                                                 \n",
    "    return x \n",
    "    \n",
    "name(\"John\")\n",
    "\n",
    ">>'Hello John!'\n",
    "   \n",
    "```\n",
    "\n",
    "Given the *wrapper* called `verbose_sum`:\n",
    "\n",
    "```Python\n",
    "def verbose_sum(func):\n",
    "    def inner(a,b):\n",
    "        return str(a) + \" + \" + str(b) + \" = \" + str(func(a,b))\n",
    "    \n",
    "    return inner\n",
    "```\n",
    "\n",
    "create a *function*, `sum`, that takes two arguments and adds them. *Decorate* your *function* with the `verbose_sum` *wrapper* using the `@` symbol.\n",
    "\n",
    "\n",
    "Test your *function* with the inputs `(4,10)`. Assign the result to *`ans9a`*.\n",
    "\n",
    "Next, test your *function* with the inputs `(200,500)`. Assign the result to *`ans9b`*."
   ]
  },
  {
   "cell_type": "code",
   "execution_count": 3,
   "metadata": {
    "deletable": false,
    "nbgrader": {
     "cell_type": "code",
     "checksum": "838fbb66f22d774fcccbdf938d81220d",
     "grade": false,
     "grade_id": "cell-859d55b52e88a560",
     "locked": false,
     "schema_version": 3,
     "solution": true
    }
   },
   "outputs": [
    {
     "data": {
      "text/plain": [
       "'200 + 500 = 700'"
      ]
     },
     "execution_count": 3,
     "metadata": {},
     "output_type": "execute_result"
    }
   ],
   "source": [
    "### GRADED\n",
    "\n",
    "### YOUR SOLUTION HERE\n",
    "\n",
    "def verbose_sum(func):\n",
    "    def inner(a,b):\n",
    "        return str(a) + \" + \" + str(b) + \" = \" + str(func(a,b))\n",
    "    return inner\n",
    "\n",
    "@verbose_sum\n",
    "def sum(a, b):\n",
    "    return a+b\n",
    "\n",
    "ans9a = sum(4, 10)\n",
    "ans9b = sum(200, 500)\n",
    "ans9b\n",
    "\n",
    "# YOUR CODE HERE\n",
    "#raise NotImplementedError()"
   ]
  },
  {
   "cell_type": "code",
   "execution_count": null,
   "metadata": {
    "deletable": false,
    "editable": false,
    "nbgrader": {
     "cell_type": "code",
     "checksum": "93529f4ccc99378d743e7e70d8a209b3",
     "grade": true,
     "grade_id": "cell-b053ddc807b4cabe",
     "locked": true,
     "points": 2,
     "schema_version": 3,
     "solution": false
    }
   },
   "outputs": [],
   "source": []
  },
  {
   "cell_type": "markdown",
   "metadata": {
    "deletable": false,
    "editable": false,
    "nbgrader": {
     "cell_type": "markdown",
     "checksum": "eaa9e01b70667d1a7559c0f065b10139",
     "grade": false,
     "grade_id": "cell-3ed58742afea0fb4",
     "locked": true,
     "schema_version": 3,
     "solution": false
    }
   },
   "source": [
    "## Question 10\n",
    "\n",
    "*2 points*\n",
    "\n",
    "The *function* below adds all the named and unnamed variables provided and returns the results:  \n",
    "```Python\n",
    "def add_values(*args,**kwargs):\n",
    "    result = 0\n",
    "    for v in args:\n",
    "        result += v\n",
    "    for k, v in kwargs.items():\n",
    "        result += v\n",
    "    return result\n",
    "   \n",
    "```\n",
    "\n",
    "Create a *wrapper* called `my_add_values` that outputs the *string* `Added decoration: sum_of_all_values`.\n",
    "\n",
    "Example: If you pass `args` equal to `(1,2,3,4,5,6,7,8,9,10)` and `kwargs` equal to `{\"arg1\":1, \"arg2\":2, \"arg3\":3}` to your `my_add_values` *function*, then it should return `Added decoration: 61`.\n",
    "\n",
    "*Decorate* the *function* `add_values` using the `@` *operator*.\n",
    "\n",
    "\n",
    "Test your *decorated function* `add_values` with the inputs `args1` equal to `(1,2,3,4,5,6,7,8,9,10)` and `kwargs1` equal to `{\"arg1\":1, \"arg2\":2, \"arg3\":3}`. Assign the result to *`ans10a`*.\n",
    "\n",
    "Next, test your *decorated* *function* `add_values` with the inputs `args2` equal to `(40,60,70,100)` and `kwargs2` equal to `{\"arg1\":4, \"arg2\":10}`. Assign the result to *`ans10b`*."
   ]
  },
  {
   "cell_type": "code",
   "execution_count": 7,
   "metadata": {
    "deletable": false,
    "nbgrader": {
     "cell_type": "code",
     "checksum": "756006cd2b1061180af18690d2c671ac",
     "grade": false,
     "grade_id": "cell-11fd20e075c832c1",
     "locked": false,
     "schema_version": 3,
     "solution": true
    }
   },
   "outputs": [
    {
     "data": {
      "text/plain": [
       "'Added decoration:284'"
      ]
     },
     "execution_count": 7,
     "metadata": {},
     "output_type": "execute_result"
    }
   ],
   "source": [
    "### GRADED\n",
    "### YOUR SOLUTION HERE\n",
    "\n",
    "def my_add_values(av):\n",
    "    def wrapper(*args, **kwargs):\n",
    "        return 'Added decoration:' + str(av(*args, **kwargs))\n",
    "    return wrapper\n",
    "\n",
    "@my_add_values\n",
    "def add_values(*args,**kwargs):\n",
    "    result = 0\n",
    "    for v in args:\n",
    "        result += v\n",
    "    for k, v in kwargs.items():\n",
    "        result += v\n",
    "    return result\n",
    "\n",
    "args1 = (1,2,3,4,5,6,7,8,9,10) \n",
    "kwargs1 = {\"arg1\":1, \"arg2\":2, \"arg3\":3}\n",
    "args2 = (40,60,70,100) \n",
    "kwargs2 = {\"arg1\":4, \"arg2\":10}\n",
    "\n",
    "ans10a = add_values(*args1, **kwargs1)\n",
    "ans10b = add_values(*args2, **kwargs2)\n",
    "ans10b\n",
    "\n",
    "# YOUR CODE HERE\n",
    "#raise NotImplementedError()"
   ]
  },
  {
   "cell_type": "code",
   "execution_count": null,
   "metadata": {
    "deletable": false,
    "editable": false,
    "nbgrader": {
     "cell_type": "code",
     "checksum": "5ea836948110bb614ed8e613bd886634",
     "grade": true,
     "grade_id": "cell-486e63c9b577471f",
     "locked": true,
     "points": 2,
     "schema_version": 3,
     "solution": false
    }
   },
   "outputs": [],
   "source": []
  },
  {
   "cell_type": "code",
   "execution_count": null,
   "metadata": {},
   "outputs": [],
   "source": []
  }
 ],
 "metadata": {
  "kernelspec": {
   "display_name": "Python 3 (ipykernel)",
   "language": "python",
   "name": "python3"
  },
  "language_info": {
   "codemirror_mode": {
    "name": "ipython",
    "version": 3
   },
   "file_extension": ".py",
   "mimetype": "text/x-python",
   "name": "python",
   "nbconvert_exporter": "python",
   "pygments_lexer": "ipython3",
   "version": "3.9.13"
  }
 },
 "nbformat": 4,
 "nbformat_minor": 4
}
